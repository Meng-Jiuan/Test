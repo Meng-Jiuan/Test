{
  "nbformat": 4,
  "nbformat_minor": 0,
  "metadata": {
    "colab": {
      "name": "Test run.ipynb",
      "provenance": [],
      "authorship_tag": "ABX9TyM8AxiIuXo9BQ5xEY8Ua3vQ",
      "include_colab_link": true
    },
    "kernelspec": {
      "name": "python3",
      "display_name": "Python 3"
    },
    "language_info": {
      "name": "python"
    }
  },
  "cells": [
    {
      "cell_type": "markdown",
      "metadata": {
        "id": "view-in-github",
        "colab_type": "text"
      },
      "source": [
        "<a href=\"https://colab.research.google.com/github/Meng-Jiuan/Test/blob/main/Test_run.ipynb\" target=\"_parent\"><img src=\"https://colab.research.google.com/assets/colab-badge.svg\" alt=\"Open In Colab\"/></a>"
      ]
    },
    {
      "cell_type": "code",
      "execution_count": 21,
      "metadata": {
        "colab": {
          "base_uri": "https://localhost:8080/"
        },
        "id": "OQGsWsUn3nmz",
        "outputId": "64c02f16-fae9-4090-a906-d14762ab5a03"
      },
      "outputs": [
        {
          "output_type": "stream",
          "name": "stdout",
          "text": [
            "Cloning into 'CostSensitiveLearning'...\n",
            "remote: Enumerating objects: 170, done.\u001b[K\n",
            "remote: Counting objects: 100% (6/6), done.\u001b[K\n",
            "remote: Compressing objects: 100% (2/2), done.\u001b[K\n",
            "remote: Total 170 (delta 5), reused 4 (delta 4), pack-reused 164\u001b[K\n",
            "Receiving objects: 100% (170/170), 9.14 MiB | 9.22 MiB/s, done.\n",
            "Resolving deltas: 100% (68/68), done.\n",
            "Drive already mounted at /content/gdrive; to attempt to forcibly remount, call drive.mount(\"/content/gdrive\", force_remount=True).\n"
          ]
        },
        {
          "output_type": "execute_result",
          "data": {
            "text/plain": [
              "['preprocessing.py']"
            ]
          },
          "metadata": {},
          "execution_count": 21
        }
      ],
      "source": [
        "!git clone https://github.com/toonvds/CostSensitiveLearning.git \n",
        "import os\n",
        "from google.colab import drive\n",
        "drive.mount('/content/gdrive')\n",
        "path=\"/content/gdrive/My Drive/CostSensitiveLearning-main/preprocessing\"\n",
        "os.chdir(path)\n",
        "os.listdir(path)"
      ]
    },
    {
      "cell_type": "code",
      "source": [
        "#!pip install category-encoders\n",
        "import warnings\n",
        "warnings.simplefilter(action='ignore', category=FutureWarning)\n",
        "\n",
        "!python3 preprocessing.py\n",
        "\n"
      ],
      "metadata": {
        "colab": {
          "base_uri": "https://localhost:8080/"
        },
        "id": "tvTkx4S-4Ju9",
        "outputId": "83f8aa41-e738-4d09-8a3e-744ddbe5765f"
      },
      "execution_count": 31,
      "outputs": [
        {
          "output_type": "stream",
          "name": "stdout",
          "text": [
            "/usr/local/lib/python3.7/dist-packages/statsmodels/tools/_testing.py:19: FutureWarning: pandas.util.testing is deprecated. Use the functions in the public API at pandas.testing instead.\n",
            "  import pandas.util.testing as tm\n"
          ]
        }
      ]
    },
    {
      "cell_type": "code",
      "source": [
        "path=\"/content/gdrive/My Drive/CostSensitiveLearning-main/experiments\"\n",
        "os.chdir(path)\n",
        "os.listdir(path)\n",
        "!python3 experiment.py"
      ],
      "metadata": {
        "colab": {
          "base_uri": "https://localhost:8080/"
        },
        "id": "6sl0ulNl-fzX",
        "outputId": "0711dbfb-6797-4c8f-b1e5-d05d84030ea0"
      },
      "execution_count": 32,
      "outputs": [
        {
          "output_type": "stream",
          "name": "stdout",
          "text": [
            "Traceback (most recent call last):\n",
            "  File \"experiment.py\", line 10, in <module>\n",
            "    from preprocessing.preprocessing import convert_categorical_variables, standardize, handle_missing_data, \\\n",
            "ModuleNotFoundError: No module named 'preprocessing'\n"
          ]
        }
      ]
    }
  ]
}